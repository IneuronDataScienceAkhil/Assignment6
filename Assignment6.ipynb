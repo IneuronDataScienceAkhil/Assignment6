{
 "cells": [
  {
   "cell_type": "markdown",
   "id": "6b53107f",
   "metadata": {},
   "source": [
    "1. What are escape characters, and how do you use them?\n",
    "\n",
    "Ans:-To insert characters that are illegal in a string, use an escape character. An escape character is a backslash \\ followed by the character you want to insert."
   ]
  },
  {
   "cell_type": "markdown",
   "id": "e1454ddf",
   "metadata": {},
   "source": [
    "2. What do the escape characters n and t stand for?\n",
    "\n",
    "Ans:- Escape charcter n mean's for changing the line or entering the newline character and t stand for tab mean giving the tab bar space in the line "
   ]
  },
  {
   "cell_type": "markdown",
   "id": "dac6fdd4",
   "metadata": {},
   "source": [
    "3. What is the way to include backslash characters in a string?\n",
    "\n",
    "Ans:-We Use '\\\\' to include backslash character in a string "
   ]
  },
  {
   "cell_type": "markdown",
   "id": "63245220",
   "metadata": {},
   "source": [
    "4. The string \"How!'s Moving Castle\" is a correct value. Why isn't the single quote character in the word How not escaped a problem?\n",
    "\n",
    "Ans:- The string \"How!'s Moving Castle\" is a correct value because The single quotes comes under the double quotes in python so that why the the string is correct. Double quotes does not comes under the single in python "
   ]
  },
  {
   "cell_type": "markdown",
   "id": "ac2a8ef1",
   "metadata": {},
   "source": [
    "5. How do you write a string of newlines if you don't want to use the n character?\n",
    "\n",
    "Ans:- We Use the the differnt different print() function for the printing the string \n",
    "\n",
    "print(\"Hello\")\n",
    "\n",
    "print(\"World\")"
   ]
  },
  {
   "cell_type": "code",
   "execution_count": 2,
   "id": "49f6d3b5",
   "metadata": {},
   "outputs": [
    {
     "name": "stdout",
     "output_type": "stream",
     "text": [
      "Hello\n",
      "World\n"
     ]
    }
   ],
   "source": [
    "print(\"Hello\")\n",
    "\n",
    "print(\"World\")"
   ]
  },
  {
   "cell_type": "markdown",
   "id": "a2b19ef2",
   "metadata": {},
   "source": [
    "6. What are the values of the given expressions?\n",
    "\n",
    "'Hello, world!'[1]\n",
    "\n",
    "This is the indexing of the string .It return the element of the 1st index\n",
    "\n",
    "'Hello, world!'[0:5]\n",
    "\n",
    "This is the slicing of the String it return the string of 0th index to 4th index(included)\n",
    "\n",
    "'Hello, world!'[:5]\n",
    "\n",
    "This is also slicing of the string starts with 0th index and till 4th indec\n",
    "\n",
    "'Hello, world!'[3:]\n",
    "\n",
    "This is slicing of the element start with the third index till the last element of the element"
   ]
  },
  {
   "cell_type": "code",
   "execution_count": 9,
   "id": "687da5da",
   "metadata": {},
   "outputs": [
    {
     "data": {
      "text/plain": [
       "'e'"
      ]
     },
     "execution_count": 9,
     "metadata": {},
     "output_type": "execute_result"
    }
   ],
   "source": [
    "'Hello, world!'[1]"
   ]
  },
  {
   "cell_type": "code",
   "execution_count": 10,
   "id": "5a24426d",
   "metadata": {},
   "outputs": [
    {
     "data": {
      "text/plain": [
       "'Hello'"
      ]
     },
     "execution_count": 10,
     "metadata": {},
     "output_type": "execute_result"
    }
   ],
   "source": [
    "'Hello, world!'[0:5]"
   ]
  },
  {
   "cell_type": "code",
   "execution_count": 11,
   "id": "522b9cc2",
   "metadata": {},
   "outputs": [
    {
     "data": {
      "text/plain": [
       "'Hello'"
      ]
     },
     "execution_count": 11,
     "metadata": {},
     "output_type": "execute_result"
    }
   ],
   "source": [
    "'Hello, world!'[:5]"
   ]
  },
  {
   "cell_type": "code",
   "execution_count": 12,
   "id": "69fe13b0",
   "metadata": {},
   "outputs": [
    {
     "data": {
      "text/plain": [
       "'lo, world!'"
      ]
     },
     "execution_count": 12,
     "metadata": {},
     "output_type": "execute_result"
    }
   ],
   "source": [
    "'Hello, world!'[3:]"
   ]
  },
  {
   "cell_type": "markdown",
   "id": "41348093",
   "metadata": {},
   "source": [
    "7. What are the values of the following expressions?\n",
    "'Hello'.upper()\n",
    "\n",
    "It return all the word in the upperletter  i.e- \"HELLO\"\n",
    "\n",
    "'Hello'.upper().isupper()\n",
    "\n",
    "Ans:- True\n",
    "\n",
    "It return the word \"Hello\" in upper letter and then check whether it's uppercase or not if it;s uppercase it return True else it return False\n",
    "\n",
    "'Hello'.upper().lower()\n",
    "return \"hello\"\n",
    "It return the word \"Hello\" in upper letter and then convert all the string in the lower case\n"
   ]
  },
  {
   "cell_type": "code",
   "execution_count": 6,
   "id": "16f5be3f",
   "metadata": {},
   "outputs": [
    {
     "data": {
      "text/plain": [
       "'HELLO'"
      ]
     },
     "execution_count": 6,
     "metadata": {},
     "output_type": "execute_result"
    }
   ],
   "source": [
    "\"Hello\".upper()"
   ]
  },
  {
   "cell_type": "code",
   "execution_count": 7,
   "id": "df96b8db",
   "metadata": {},
   "outputs": [
    {
     "data": {
      "text/plain": [
       "True"
      ]
     },
     "execution_count": 7,
     "metadata": {},
     "output_type": "execute_result"
    }
   ],
   "source": [
    "\"Hello\".upper().isupper()"
   ]
  },
  {
   "cell_type": "code",
   "execution_count": 8,
   "id": "6efa5555",
   "metadata": {},
   "outputs": [
    {
     "data": {
      "text/plain": [
       "'hello'"
      ]
     },
     "execution_count": 8,
     "metadata": {},
     "output_type": "execute_result"
    }
   ],
   "source": [
    "\"Hello\".upper().lower()"
   ]
  },
  {
   "cell_type": "markdown",
   "id": "d9d3af8c",
   "metadata": {},
   "source": [
    "8. What are the values of the following expressions?\n",
    "\n",
    "'Remember.remember, the fifth of July'.split()\n",
    "\n",
    "Ans:- .split() method can split the word where got an whitespace by default and store in the list.\n",
    "\n",
    "'Remember.remember, the fifth of July'.split()\n",
    "\n",
    "['Remember.remember,', 'the', 'fifth', 'of', 'July']\n",
    "\n",
    "\n",
    "''.join(There can only one.split())\n",
    "\n",
    "Ans:- .join() function can join the string with the given expression In between the Word"
   ]
  },
  {
   "cell_type": "code",
   "execution_count": 13,
   "id": "0520e61c",
   "metadata": {
    "scrolled": false
   },
   "outputs": [
    {
     "data": {
      "text/plain": [
       "['Remember.remember,', 'the', 'fifth', 'of', 'July']"
      ]
     },
     "execution_count": 13,
     "metadata": {},
     "output_type": "execute_result"
    }
   ],
   "source": [
    "'Remember.remember, the fifth of July'.split()"
   ]
  },
  {
   "cell_type": "code",
   "execution_count": 14,
   "id": "615b8eeb",
   "metadata": {},
   "outputs": [
    {
     "data": {
      "text/plain": [
       "'R-e-m-e-m-b-e-r-.-r-e-m-e-m-b-e-r-,- -t-h-e- -f-i-f-t-h- -o-f- -J-u-l-y'"
      ]
     },
     "execution_count": 14,
     "metadata": {},
     "output_type": "execute_result"
    }
   ],
   "source": [
    "'-'.join('Remember.remember, the fifth of July')\n",
    "\n"
   ]
  },
  {
   "cell_type": "markdown",
   "id": "37d4df00",
   "metadata": {},
   "source": [
    "9. What are the methods for right-justifying, left-justifying, and centering a string?\n",
    "\n",
    "Ans:-ljust()- is used for justifying a string in the left side , rjust() is used to justfying the string to the right and  center() is used for justifying the string in the center."
   ]
  },
  {
   "cell_type": "markdown",
   "id": "a72bf400",
   "metadata": {},
   "source": [
    "10. What is the best way to remove whitespace characters from the start or end?\n",
    "\n",
    "Ans:-> The two way to remove whitespace characters from the start or end are trimStart() and  trimEnd().\n"
   ]
  },
  {
   "cell_type": "code",
   "execution_count": null,
   "id": "dfa5ab1a",
   "metadata": {},
   "outputs": [],
   "source": []
  }
 ],
 "metadata": {
  "kernelspec": {
   "display_name": "Python 3 (ipykernel)",
   "language": "python",
   "name": "python3"
  },
  "language_info": {
   "codemirror_mode": {
    "name": "ipython",
    "version": 3
   },
   "file_extension": ".py",
   "mimetype": "text/x-python",
   "name": "python",
   "nbconvert_exporter": "python",
   "pygments_lexer": "ipython3",
   "version": "3.9.7"
  }
 },
 "nbformat": 4,
 "nbformat_minor": 5
}
